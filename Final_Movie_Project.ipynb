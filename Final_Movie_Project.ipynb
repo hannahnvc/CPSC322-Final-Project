{
 "metadata": {
  "language_info": {
   "codemirror_mode": {
    "name": "ipython",
    "version": 3
   },
   "file_extension": ".py",
   "mimetype": "text/x-python",
   "name": "python",
   "nbconvert_exporter": "python",
   "pygments_lexer": "ipython3",
   "version": 3
  },
  "orig_nbformat": 2
 },
 "nbformat": 4,
 "nbformat_minor": 2,
 "cells": [
  {
   "source": [
    "# Movie Analysis Project\n",
    "## By Clare Casey and Hannah Vollan Cole"
   ],
   "cell_type": "markdown",
   "metadata": {}
  },
  {
   "source": [
    "# Dataset Description\n",
    "Our dataset is actually two datasets. The IMDb movies, which is a dataset of 85855 movies with their title names, year of release, date of release, movie genres, duration (in minutes), movie country, movie language, and director name. There are more datasets within this dataset, which include total weighted average rating, total votes recieved, total mean vote, total median vote, and the number of votes of ratings equal to a certain number.\n",
    "\n",
    "The second dataset has the names of the movies, years and whether or not the movie was a nominee or winner of the Oscar award for the best picture.\n",
    "\n",
    "Our plan is to create a combined dataset with a new attribute, Oscar status, which will be able to be winner, nominee or not nominated. We will write a modified join fucntion that adds this new attribute to the IMDb movie dataset.\n",
    "\n",
    "We will try to predict the Oscar status of each movie, and then create a test set with information about movies from this year to see if we can accurately predict whether a movie will be nominated or win the Best Picture Oscar.\n",
    "\n",
    "https://www.kaggle.com/stefanoleone992/imdb-extensive-dataset?select=IMDb+movies.csv\n",
    "https://www.kaggle.com/amandaiglesias/oscar-winners-and-nominees"
   ],
   "cell_type": "markdown",
   "metadata": {}
  },
  {
   "source": [
    "## Implementation/techical merit\n",
    "1. Anticipated challenges in pre-processing\n",
    "- The dataset with the long movie list has all of the attributes we are going to evaluate, so we do not need to do an inner or outer join with another dataset. However, it does not have the class label we want to predict, which is whether the film was not nominated, nominated, or won an Oscar. We have another dataset that is a list of the nominees and winners of the best picture Oscar since 1927. The class labels will be created by making a parallel list to the main dataset where we note if the film was nominated or won the Oscar, and if neither happened, we can say that it was not nominated.\n",
    "\n",
    "- Cleaning the data is important here, as we are using two datasets that don’t fully match. We need to delete all movies in the large dataset (around 85,000 instances) that were made before 1926, as we do not have data for any Oscar nominations before the 1927 Oscars. There may also be time issues, as the 85,000 instance dataset is quite large. Additionally, there are only about 550 instances in the smaller dataset, as only so many films are nominated for Oscars each year, so most of the films will be classified as “not nominated.” We may have to edit more if the data is too skewed to “not nominated.”\n",
    "\n",
    "2. Feature selection to pair down\n",
    "- deleting all movies made before 1926\n",
    "- deleting all instances with missing data, unless they are in the Oscar nominated list, then we would like to fill in that data\n",
    "- there is a lot of missing data in the “budget,” “usa_gross_income,” “worlwide_gross_income,” and  “metascore” columns, so we could remove those as factors if they delete too much data"
   ],
   "cell_type": "markdown",
   "metadata": {}
  },
  {
   "source": [
    "## Potential impact of the results\n",
    "\n",
    "These results are useful because we can use them to predict future Oscar Best Picture winners. \n",
    "\n",
    "People interested in these results would be the people who are making movies, so that they know what type of criteria the Academy looks for when judging a movie. Also, for normal people who are curious or potentially betting on the outcome of the awards. "
   ],
   "cell_type": "markdown",
   "metadata": {}
  }
 ]
}